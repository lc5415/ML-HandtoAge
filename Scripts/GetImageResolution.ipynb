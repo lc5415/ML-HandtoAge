{
 "cells": [
  {
   "cell_type": "code",
   "execution_count": null,
   "metadata": {},
   "outputs": [],
   "source": [
    "import numpy as np\n",
    "import pandas as pd"
   ]
  },
  {
   "cell_type": "code",
   "execution_count": null,
   "metadata": {},
   "outputs": [],
   "source": [
    "training_labels = pd.read_csv(\"boneage-training-dataset.csv\")\n",
    "\n",
    "training_labels_indices = map(lambda filename: filename.split('.')[0], os.listdir(\"labelled/train/\"))\n",
    "training_labels_indices = list(training_labels_indices)\n",
    "\n",
    "\n",
    "i = 0\n",
    "image_size = np.empty([training_labels.shape[0], 2])\n",
    "for filename in training_labels['id'].values:\n",
    "    #load image\n",
    "    image = io.imread('labelled/train/'+str(filename)+'.png')\n",
    "    #reshape image as done previously and store in X_train ith row\n",
    "    #X_train[i,:] = image.reshape(1, np.prod(image.shape))\n",
    "    image_size[i,:] = image.shape\n",
    "    #update indexing variable i\n",
    "    i +=1\n"
   ]
  }
 ],
 "metadata": {
  "kernelspec": {
   "display_name": "Python 3",
   "language": "python",
   "name": "python3"
  },
  "language_info": {
   "name": ""
  }
 },
 "nbformat": 4,
 "nbformat_minor": 2
}
